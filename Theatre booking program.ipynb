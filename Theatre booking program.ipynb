{
 "cells": [
  {
   "cell_type": "code",
   "execution_count": null,
   "id": "3045fb62-6830-4dfa-bd0f-dcd710883582",
   "metadata": {},
   "outputs": [
    {
     "name": "stdout",
     "output_type": "stream",
     "text": [
      "WELCOME TO CINEPLEX THEATER\n"
     ]
    },
    {
     "name": "stdin",
     "output_type": "stream",
     "text": [
      "Enter Your Name: priya\n",
      "Enter number of seats you want to book: 5\n"
     ]
    },
    {
     "name": "stdout",
     "output_type": "stream",
     "text": [
      "    Press 1 for Normal seats(price-250/-)\n",
      "    Press 2 for Recyline seats(price-500/-)\n"
     ]
    }
   ],
   "source": [
    "price_vip=500\n",
    "price_n=250\n",
    "seats=50\n",
    "\n",
    "while True:\n",
    "    print('WELCOME TO CINEPLEX THEATER')\n",
    "    name=input(\"Enter Your Name:\")\n",
    "    u_seats=int(input(\"Enter number of seats you want to book:\"))\n",
    "    seats-=u_seats\n",
    "   \n",
    "    if u_seats>seats:\n",
    "        print(\"Housefull\")\n",
    "        break\n",
    "        \n",
    "        \n",
    "    print(\"\"\"    Press 1 for Normal seats(price-250/-)\n",
    "    Press 2 for Recyline seats(price-500/-)\"\"\")\n",
    "    choice=int(input(\"Enter your choice between 1 or 2:\"))\n",
    "    if choice==1:\n",
    "        total=(u_seats*250)\n",
    "    elif choice==2:\n",
    "        total=(u_seats*500)\n",
    "        \n",
    "    combo_choice = input(\"Would you like to add popcorn and drinks (Y/N)? \")\n",
    "    if combo_choice == 'y':\n",
    "                print(\"Added popcorn and Drinks to your order.\")\n",
    "    else:             \n",
    "                print(\"Enjoy the movie!\")\n",
    "\n",
    "    print(\"succesfully booked\",u_seats,\"tickets\")\n",
    "    print(\"-\"*40)\n",
    "    print(\"BILL\",total)\n",
    "    print(\"-\"*40)\n",
    "    print(\" Thank you visit again\")\n",
    "    print(\"                    \")\n",
    "    print(\"-\"*40)\n",
    "    print(\"availabe seats\",seats)\n",
    "    print(\"                    \")"
   ]
  },
  {
   "cell_type": "code",
   "execution_count": null,
   "id": "ba747ead-3cf5-465c-aee3-711ae42c4985",
   "metadata": {},
   "outputs": [],
   "source": []
  }
 ],
 "metadata": {
  "kernelspec": {
   "display_name": "Python 3 (ipykernel)",
   "language": "python",
   "name": "python3"
  },
  "language_info": {
   "codemirror_mode": {
    "name": "ipython",
    "version": 3
   },
   "file_extension": ".py",
   "mimetype": "text/x-python",
   "name": "python",
   "nbconvert_exporter": "python",
   "pygments_lexer": "ipython3",
   "version": "3.11.5"
  }
 },
 "nbformat": 4,
 "nbformat_minor": 5
}
